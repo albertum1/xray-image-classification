{
 "cells": [
  {
   "cell_type": "code",
   "execution_count": 1,
   "metadata": {},
   "outputs": [],
   "source": [
    "import pandas as pd\n",
    "import numpy as np\n",
    "from keras import models\n",
    "from keras import layers\n",
    "from sklearn.metrics import confusion_matrix, f1_score\n",
    "import matplotlib.pyplot as plt\n",
    "from keras.models import load_model\n",
    "from PIL import Image, ImageOps, ImageFilter\n",
    "from keras.preprocessing.image import ImageDataGenerator, array_to_img, img_to_array, load_img\n",
    "from sklearn.model_selection import train_test_split\n",
    "%matplotlib inline\n",
    "np.random.seed(123)\n",
    "import os"
   ]
  },
  {
   "cell_type": "code",
   "execution_count": 62,
   "metadata": {},
   "outputs": [],
   "source": [
    "# Getting mirror images for normal to deal with class imbalance\n",
    "\"\"\"\n",
    "for filename in os.listdir('chest_xray/train/NORMAL'):\n",
    "    if filename.endswith('.jpeg'):\n",
    "        im = Image.open(os.path.join('chest_xray/train/NORMAL/', filename))\n",
    "        im_mirror = ImageOps.mirror(im)\n",
    "        im_mirror.save('chest_xray/train/NORMAL/mirror_'+filename)\n",
    "    else:\n",
    "        continue\n",
    "\"\"\""
   ]
  },
  {
   "cell_type": "code",
   "execution_count": 69,
   "metadata": {},
   "outputs": [],
   "source": [
    "\"\"\"\n",
    "i = 0\n",
    "for filename in os.listdir('chest_xray/train/NORMAL'):\n",
    "    if filename.endswith('.jpeg'):\n",
    "        im = Image.open(os.path.join('chest_xray/train/NORMAL/', filename))\n",
    "        im=im.convert(\"RGB\")\n",
    "        if i % 2 == 0:\n",
    "            new = im.filter(ImageFilter.GaussianBlur)\n",
    "        else:\n",
    "            new = im.filter(ImageFilter.UnsharpMask)\n",
    "        new.save('chest_xray/train/NORMAL/augment_'+filename)\n",
    "        i += 1\n",
    "    else:\n",
    "        continue\n",
    "    if i  == 1185:\n",
    "        break\n",
    "\"\"\""
   ]
  },
  {
   "cell_type": "code",
   "execution_count": 2,
   "metadata": {},
   "outputs": [
    {
     "name": "stdout",
     "output_type": "stream",
     "text": [
      "Found 7772 images belonging to 2 classes.\n"
     ]
    }
   ],
   "source": [
    "train = ImageDataGenerator(rescale=1./255).flow_from_directory(\n",
    "        directory = 'chest_xray/train',\n",
    "        class_mode = 'binary',\n",
    "        target_size = (128, 128),\n",
    "        batch_size = 7772) "
   ]
  },
  {
   "cell_type": "code",
   "execution_count": 3,
   "metadata": {},
   "outputs": [
    {
     "name": "stdout",
     "output_type": "stream",
     "text": [
      "Found 624 images belonging to 2 classes.\n"
     ]
    }
   ],
   "source": [
    "test = ImageDataGenerator(rescale=1./255).flow_from_directory(\n",
    "        directory = 'chest_xray/test',\n",
    "        class_mode = 'binary',\n",
    "        target_size = (128, 128),\n",
    "        batch_size = 624) "
   ]
  },
  {
   "cell_type": "code",
   "execution_count": 4,
   "metadata": {},
   "outputs": [],
   "source": [
    "# Spliting images and labels\n",
    "test_images, test_labels = next(test)\n",
    "train_images, train_labels = next(train)\n"
   ]
  },
  {
   "cell_type": "code",
   "execution_count": 5,
   "metadata": {},
   "outputs": [],
   "source": [
    "test_labels = np.reshape(test_labels, (len(test_labels),1)). astype(int)\n",
    "train_labels = np.reshape(train_labels, (len(train_labels),1)). astype(int)"
   ]
  },
  {
   "cell_type": "code",
   "execution_count": 6,
   "metadata": {},
   "outputs": [],
   "source": [
    "x_train, x_val, y_train, y_val = train_test_split(train_images, train_labels, test_size=0.20, random_state=123)"
   ]
  },
  {
   "cell_type": "code",
   "execution_count": 8,
   "metadata": {},
   "outputs": [],
   "source": [
    "cnn = models.Sequential()\n",
    "cnn.add(layers.Conv2D(64, (3, 3), activation='relu', input_shape=(128, 128,  3)))\n",
    "cnn.add(layers.MaxPooling2D((2, 2)))\n",
    "cnn.add(layers.Conv2D(32, (3, 3), activation='relu'))\n",
    "cnn.add(layers.MaxPooling2D((2, 2)))\n",
    "cnn.add(layers.Flatten())\n",
    "cnn.add(layers.Dense(32, activation='relu'))\n",
    "cnn.add(layers.Dense(1, activation='sigmoid'))\n",
    "\n",
    "cnn.compile(loss='binary_crossentropy',\n",
    "              optimizer=\"sgd\",\n",
    "              metrics=['acc'])"
   ]
  },
  {
   "cell_type": "code",
   "execution_count": 10,
   "metadata": {},
   "outputs": [
    {
     "name": "stdout",
     "output_type": "stream",
     "text": [
      "Epoch 1/5\n",
      "125/125 [==============================] - 165s 1s/step - loss: 0.6081 - acc: 0.6868 - val_loss: 0.8296 - val_acc: 0.4920\n",
      "Epoch 2/5\n",
      "125/125 [==============================] - 167s 1s/step - loss: 0.3948 - acc: 0.8287 - val_loss: 0.7152 - val_acc: 0.6386\n",
      "Epoch 3/5\n",
      "125/125 [==============================] - 244s 2s/step - loss: 0.2527 - acc: 0.9006 - val_loss: 0.1764 - val_acc: 0.9479\n",
      "Epoch 4/5\n",
      "125/125 [==============================] - 150s 1s/step - loss: 0.1842 - acc: 0.9286 - val_loss: 0.1258 - val_acc: 0.9550\n",
      "Epoch 5/5\n",
      "125/125 [==============================] - 179s 1s/step - loss: 0.1645 - acc: 0.9347 - val_loss: 0.1364 - val_acc: 0.9473\n"
     ]
    }
   ],
   "source": [
    "cnn1 = cnn.fit(x_train,\n",
    "                    y_train,\n",
    "                    epochs=5,\n",
    "                    batch_size=50,\n",
    "                    validation_data=(x_val, y_val),\n",
    "                      workers = -1)"
   ]
  },
  {
   "cell_type": "code",
   "execution_count": 11,
   "metadata": {},
   "outputs": [
    {
     "data": {
      "image/png": "[encoded data removed]",
      "text/plain": [
       "<Figure size 1080x288 with 2 Axes>"
      ]
     },
     "metadata": {
      "needs_background": "light"
     },
     "output_type": "display_data"
    }
   ],
   "source": [
    "hist_cnn = cnn1.history\n",
    "loss_values = hist_cnn['loss']\n",
    "val_loss_values = hist_cnn['val_loss']\n",
    "acc_values = hist_cnn['acc'] \n",
    "val_acc_values = hist_cnn['val_acc']\n",
    "\n",
    "\n",
    "epochs = range(1, len(loss_values) + 1)\n",
    "\n",
    "plt.figure(figsize=(15,4))\n",
    "plt.subplot(121)\n",
    "plt.plot(epochs, loss_values, 'g.', label='Training loss')\n",
    "plt.plot(epochs, val_loss_values, 'g', label='Validation loss')\n",
    "\n",
    "plt.title('Training and validation loss')\n",
    "plt.xlabel('Epochs')\n",
    "plt.ylabel('Loss')\n",
    "plt.legend()\n",
    "\n",
    "plt.subplot(122)\n",
    "plt.plot(epochs, acc_values, 'r.', label='Training acc')\n",
    "plt.plot(epochs, val_acc_values, 'r', label='Validation acc')\n",
    "plt.title('Training and validation accuracy')\n",
    "plt.xlabel('Epochs')\n",
    "plt.ylabel('Accuracy')\n",
    "plt.legend()\n",
    "plt.show()"
   ]
  },
  {
   "cell_type": "code",
   "execution_count": 13,
   "metadata": {},
   "outputs": [
    {
     "name": "stdout",
     "output_type": "stream",
     "text": [
      "195/195 [==============================] - 30s 153ms/step - loss: 0.1728 - acc: 0.9291\n",
      "20/20 [==============================] - 4s 185ms/step - loss: 0.8168 - acc: 0.7292\n",
      "[0.1728186160326004, 0.929065465927124] [0.81678307056427, 0.7291666865348816]\n"
     ]
    }
   ],
   "source": [
    "results_train = cnn.evaluate(x_train, y_train)\n",
    "results_test = cnn.evaluate(test_images, test_labels)\n",
    "print(results_train, results_test)"
   ]
  },
  {
   "cell_type": "code",
   "execution_count": 16,
   "metadata": {},
   "outputs": [],
   "source": [
    "def predictoneimage_cnn(model, path):\n",
    "    img = load_img(path, target_size=(128, 128))\n",
    "    plt.imshow(img)\n",
    "    img = img_to_array(img)\n",
    "    img = img/255\n",
    "    img = np.expand_dims(img, axis=0)\n",
    "    predict = model.predict(img)\n",
    "    return predict\n"
   ]
  },
  {
   "cell_type": "code",
   "execution_count": 17,
   "metadata": {},
   "outputs": [
    {
     "data": {
      "text/plain": [
       "array([[0.5948161]], dtype=float32)"
      ]
     },
     "execution_count": 17,
     "metadata": {},
     "output_type": "execute_result"
    },
    {
     "data": {
      "image/png": "[encoded data removed]",
      "text/plain": [
       "<Figure size 432x288 with 1 Axes>"
      ]
     },
     "metadata": {
      "needs_background": "light"
     },
     "output_type": "display_data"
    }
   ],
   "source": [
    "predictoneimage_cnn(cnn, 'chest_xray/test/NORMAL/IM-0001-0001.jpeg')"
   ]
  },
  {
   "cell_type": "code",
   "execution_count": 18,
   "metadata": {},
   "outputs": [
    {
     "data": {
      "text/plain": [
       "array([[0.9993681]], dtype=float32)"
      ]
     },
     "execution_count": 18,
     "metadata": {},
     "output_type": "execute_result"
    },
    {
     "data": {
      "image/png": "[encoded data removed]",
      "text/plain": [
       "<Figure size 432x288 with 1 Axes>"
      ]
     },
     "metadata": {
      "needs_background": "light"
     },
     "output_type": "display_data"
    }
   ],
   "source": [
    "predictoneimage_cnn(cnn, 'chest_xray/test/PNEUMONIA/person1_virus_6.jpeg')"
   ]
  },
  {
   "cell_type": "code",
   "execution_count": 19,
   "metadata": {},
   "outputs": [],
   "source": [
    "from keras.applications import inception_v3\n",
    "from keras.layers import Dense,GlobalAveragePooling2D\n",
    "from sklearn.metrics import confusion_matrix, f1_score\n",
    "from keras.models import Model"
   ]
  },
  {
   "cell_type": "code",
   "execution_count": 20,
   "metadata": {},
   "outputs": [],
   "source": [
    "imagenet=inception_v3.InceptionV3(weights='imagenet',include_top=False)\n",
    "imagenet_new=imagenet.output\n",
    "new_model = models.Sequential()\n",
    "new_model.add(imagenet)\n",
    "new_model.add(GlobalAveragePooling2D())\n",
    "new_model.add(Dense(1024,activation='relu'))\n",
    "new_model.add(Dense(1024,activation='relu')) #dense layer 2\n",
    "new_model.add(Dense(512,activation='relu')) #dense layer 3\n",
    "new_model.add(Dense(1,activation='sigmoid')) #final layer with softmax activation"
   ]
  },
  {
   "cell_type": "code",
   "execution_count": 38,
   "metadata": {
    "collapsed": true,
    "jupyter": {
     "outputs_hidden": true
    }
   },
   "outputs": [
    {
     "name": "stdout",
     "output_type": "stream",
     "text": [
      "0 input_1 True\n",
      "1 conv2d_2 True\n",
      "2 batch_normalization True\n",
      "3 activation True\n",
      "4 conv2d_3 True\n",
      "5 batch_normalization_1 True\n",
      "6 activation_1 True\n",
      "7 conv2d_4 True\n",
      "8 batch_normalization_2 True\n",
      "9 activation_2 True\n",
      "10 max_pooling2d_2 True\n",
      "11 conv2d_5 True\n",
      "12 batch_normalization_3 True\n",
      "13 activation_3 True\n",
      "14 conv2d_6 True\n",
      "15 batch_normalization_4 True\n",
      "16 activation_4 True\n",
      "17 max_pooling2d_3 True\n",
      "18 conv2d_10 True\n",
      "19 batch_normalization_8 True\n",
      "20 activation_8 True\n",
      "21 conv2d_8 True\n",
      "22 conv2d_11 True\n",
      "23 batch_normalization_6 True\n",
      "24 batch_normalization_9 True\n",
      "25 activation_6 True\n",
      "26 activation_9 True\n",
      "27 average_pooling2d True\n",
      "28 conv2d_7 True\n",
      "29 conv2d_9 True\n",
      "30 conv2d_12 True\n",
      "31 conv2d_13 True\n",
      "32 batch_normalization_5 True\n",
      "33 batch_normalization_7 True\n",
      "34 batch_normalization_10 True\n",
      "35 batch_normalization_11 True\n",
      "36 activation_5 True\n",
      "37 activation_7 True\n",
      "38 activation_10 True\n",
      "39 activation_11 True\n",
      "40 mixed0 True\n",
      "41 conv2d_17 True\n",
      "42 batch_normalization_15 True\n",
      "43 activation_15 True\n",
      "44 conv2d_15 True\n",
      "45 conv2d_18 True\n",
      "46 batch_normalization_13 True\n",
      "47 batch_normalization_16 True\n",
      "48 activation_13 True\n",
      "49 activation_16 True\n",
      "50 average_pooling2d_1 True\n",
      "51 conv2d_14 True\n",
      "52 conv2d_16 True\n",
      "53 conv2d_19 True\n",
      "54 conv2d_20 True\n",
      "55 batch_normalization_12 True\n",
      "56 batch_normalization_14 True\n",
      "57 batch_normalization_17 True\n",
      "58 batch_normalization_18 True\n",
      "59 activation_12 True\n",
      "60 activation_14 True\n",
      "61 activation_17 True\n",
      "62 activation_18 True\n",
      "63 mixed1 True\n",
      "64 conv2d_24 True\n",
      "65 batch_normalization_22 True\n",
      "66 activation_22 True\n",
      "67 conv2d_22 True\n",
      "68 conv2d_25 True\n",
      "69 batch_normalization_20 True\n",
      "70 batch_normalization_23 True\n",
      "71 activation_20 True\n",
      "72 activation_23 True\n",
      "73 average_pooling2d_2 True\n",
      "74 conv2d_21 True\n",
      "75 conv2d_23 True\n",
      "76 conv2d_26 True\n",
      "77 conv2d_27 True\n",
      "78 batch_normalization_19 True\n",
      "79 batch_normalization_21 True\n",
      "80 batch_normalization_24 True\n",
      "81 batch_normalization_25 True\n",
      "82 activation_19 True\n",
      "83 activation_21 True\n",
      "84 activation_24 True\n",
      "85 activation_25 True\n",
      "86 mixed2 True\n",
      "87 conv2d_29 True\n",
      "88 batch_normalization_27 True\n",
      "89 activation_27 True\n",
      "90 conv2d_30 True\n",
      "91 batch_normalization_28 True\n",
      "92 activation_28 True\n",
      "93 conv2d_28 True\n",
      "94 conv2d_31 True\n",
      "95 batch_normalization_26 True\n",
      "96 batch_normalization_29 True\n",
      "97 activation_26 True\n",
      "98 activation_29 True\n",
      "99 max_pooling2d_4 True\n",
      "100 mixed3 True\n",
      "101 conv2d_36 True\n",
      "102 batch_normalization_34 True\n",
      "103 activation_34 True\n",
      "104 conv2d_37 True\n",
      "105 batch_normalization_35 True\n",
      "106 activation_35 True\n",
      "107 conv2d_33 True\n",
      "108 conv2d_38 True\n",
      "109 batch_normalization_31 True\n",
      "110 batch_normalization_36 True\n",
      "111 activation_31 True\n",
      "112 activation_36 True\n",
      "113 conv2d_34 True\n",
      "114 conv2d_39 True\n",
      "115 batch_normalization_32 True\n",
      "116 batch_normalization_37 True\n",
      "117 activation_32 True\n",
      "118 activation_37 True\n",
      "119 average_pooling2d_3 True\n",
      "120 conv2d_32 True\n",
      "121 conv2d_35 True\n",
      "122 conv2d_40 True\n",
      "123 conv2d_41 True\n",
      "124 batch_normalization_30 True\n",
      "125 batch_normalization_33 True\n",
      "126 batch_normalization_38 True\n",
      "127 batch_normalization_39 True\n",
      "128 activation_30 True\n",
      "129 activation_33 True\n",
      "130 activation_38 True\n",
      "131 activation_39 True\n",
      "132 mixed4 True\n",
      "133 conv2d_46 True\n",
      "134 batch_normalization_44 True\n",
      "135 activation_44 True\n",
      "136 conv2d_47 True\n",
      "137 batch_normalization_45 True\n",
      "138 activation_45 True\n",
      "139 conv2d_43 True\n",
      "140 conv2d_48 True\n",
      "141 batch_normalization_41 True\n",
      "142 batch_normalization_46 True\n",
      "143 activation_41 True\n",
      "144 activation_46 True\n",
      "145 conv2d_44 True\n",
      "146 conv2d_49 True\n",
      "147 batch_normalization_42 True\n",
      "148 batch_normalization_47 True\n",
      "149 activation_42 True\n",
      "150 activation_47 True\n",
      "151 average_pooling2d_4 True\n",
      "152 conv2d_42 True\n",
      "153 conv2d_45 True\n",
      "154 conv2d_50 True\n",
      "155 conv2d_51 True\n",
      "156 batch_normalization_40 True\n",
      "157 batch_normalization_43 True\n",
      "158 batch_normalization_48 True\n",
      "159 batch_normalization_49 True\n",
      "160 activation_40 True\n",
      "161 activation_43 True\n",
      "162 activation_48 True\n",
      "163 activation_49 True\n",
      "164 mixed5 True\n",
      "165 conv2d_56 True\n",
      "166 batch_normalization_54 True\n",
      "167 activation_54 True\n",
      "168 conv2d_57 True\n",
      "169 batch_normalization_55 True\n",
      "170 activation_55 True\n",
      "171 conv2d_53 True\n",
      "172 conv2d_58 True\n",
      "173 batch_normalization_51 True\n",
      "174 batch_normalization_56 True\n",
      "175 activation_51 True\n",
      "176 activation_56 True\n",
      "177 conv2d_54 True\n",
      "178 conv2d_59 True\n",
      "179 batch_normalization_52 True\n",
      "180 batch_normalization_57 True\n",
      "181 activation_52 True\n",
      "182 activation_57 True\n",
      "183 average_pooling2d_5 True\n",
      "184 conv2d_52 True\n",
      "185 conv2d_55 True\n",
      "186 conv2d_60 True\n",
      "187 conv2d_61 True\n",
      "188 batch_normalization_50 True\n",
      "189 batch_normalization_53 True\n",
      "190 batch_normalization_58 True\n",
      "191 batch_normalization_59 True\n",
      "192 activation_50 True\n",
      "193 activation_53 True\n",
      "194 activation_58 True\n",
      "195 activation_59 True\n",
      "196 mixed6 True\n",
      "197 conv2d_66 True\n",
      "198 batch_normalization_64 True\n",
      "199 activation_64 True\n",
      "200 conv2d_67 True\n",
      "201 batch_normalization_65 True\n",
      "202 activation_65 True\n",
      "203 conv2d_63 True\n",
      "204 conv2d_68 True\n",
      "205 batch_normalization_61 True\n",
      "206 batch_normalization_66 True\n",
      "207 activation_61 True\n",
      "208 activation_66 True\n",
      "209 conv2d_64 True\n",
      "210 conv2d_69 True\n",
      "211 batch_normalization_62 True\n",
      "212 batch_normalization_67 True\n",
      "213 activation_62 True\n",
      "214 activation_67 True\n",
      "215 average_pooling2d_6 True\n",
      "216 conv2d_62 True\n",
      "217 conv2d_65 True\n",
      "218 conv2d_70 True\n",
      "219 conv2d_71 True\n",
      "220 batch_normalization_60 True\n",
      "221 batch_normalization_63 True\n",
      "222 batch_normalization_68 True\n",
      "223 batch_normalization_69 True\n",
      "224 activation_60 True\n",
      "225 activation_63 True\n",
      "226 activation_68 True\n",
      "227 activation_69 True\n",
      "228 mixed7 True\n",
      "229 conv2d_74 True\n",
      "230 batch_normalization_72 True\n",
      "231 activation_72 True\n",
      "232 conv2d_75 True\n",
      "233 batch_normalization_73 True\n",
      "234 activation_73 True\n",
      "235 conv2d_72 True\n",
      "236 conv2d_76 True\n",
      "237 batch_normalization_70 True\n",
      "238 batch_normalization_74 True\n",
      "239 activation_70 True\n",
      "240 activation_74 True\n",
      "241 conv2d_73 True\n",
      "242 conv2d_77 True\n",
      "243 batch_normalization_71 True\n",
      "244 batch_normalization_75 True\n",
      "245 activation_71 True\n",
      "246 activation_75 True\n",
      "247 max_pooling2d_5 True\n",
      "248 mixed8 True\n",
      "249 conv2d_82 True\n",
      "250 batch_normalization_80 True\n",
      "251 activation_80 True\n",
      "252 conv2d_79 True\n",
      "253 conv2d_83 True\n",
      "254 batch_normalization_77 True\n",
      "255 batch_normalization_81 True\n",
      "256 activation_77 True\n",
      "257 activation_81 True\n",
      "258 conv2d_80 True\n",
      "259 conv2d_81 True\n",
      "260 conv2d_84 True\n",
      "261 conv2d_85 True\n",
      "262 average_pooling2d_7 True\n",
      "263 conv2d_78 True\n",
      "264 batch_normalization_78 True\n",
      "265 batch_normalization_79 True\n",
      "266 batch_normalization_82 True\n",
      "267 batch_normalization_83 True\n",
      "268 conv2d_86 True\n",
      "269 batch_normalization_76 True\n",
      "270 activation_78 True\n",
      "271 activation_79 True\n",
      "272 activation_82 True\n",
      "273 activation_83 True\n",
      "274 batch_normalization_84 True\n",
      "275 activation_76 True\n",
      "276 mixed9_0 True\n",
      "277 concatenate True\n",
      "278 activation_84 True\n",
      "279 mixed9 True\n",
      "280 conv2d_91 True\n",
      "281 batch_normalization_89 True\n",
      "282 activation_89 True\n",
      "283 conv2d_88 True\n",
      "284 conv2d_92 True\n",
      "285 batch_normalization_86 True\n",
      "286 batch_normalization_90 True\n",
      "287 activation_86 True\n",
      "288 activation_90 True\n",
      "289 conv2d_89 True\n",
      "290 conv2d_90 True\n",
      "291 conv2d_93 True\n",
      "292 conv2d_94 True\n",
      "293 average_pooling2d_8 True\n",
      "294 conv2d_87 True\n",
      "295 batch_normalization_87 True\n",
      "296 batch_normalization_88 True\n",
      "297 batch_normalization_91 True\n",
      "298 batch_normalization_92 True\n",
      "299 conv2d_95 True\n",
      "300 batch_normalization_85 True\n",
      "301 activation_87 True\n",
      "302 activation_88 True\n",
      "303 activation_91 True\n",
      "304 activation_92 True\n",
      "305 batch_normalization_93 True\n",
      "306 activation_85 True\n",
      "307 mixed9_1 True\n",
      "308 concatenate_1 True\n",
      "309 activation_93 True\n",
      "310 mixed10 True\n"
     ]
    }
   ],
   "source": [
    "for i,layer in enumerate(imagenet.layers):\n",
    "    print(i,layer.name, layer.trainable)"
   ]
  },
  {
   "cell_type": "code",
   "execution_count": null,
   "metadata": {},
   "outputs": [
    {
     "name": "stdout",
     "output_type": "stream",
     "text": [
      "Epoch 1/5\n",
      " 71/125 [================>.............] - ETA: 5:06 - loss: 0.1854 - accuracy: 0.9482"
     ]
    }
   ],
   "source": [
    "new_model.compile(optimizer='Adam',loss='binary_crossentropy',metrics=['accuracy'])\n",
    "\n",
    "# step_size_train=train_generator.n//train_generator.batch_size\n",
    "nm = new_model.fit(x_train,\n",
    "             y_train,\n",
    "             epochs=5,\n",
    "             batch_size=50,\n",
    "             validation_data = (x_val, y_val),\n",
    "                  workers = -1)"
   ]
  },
  {
   "cell_type": "code",
   "execution_count": null,
   "metadata": {},
   "outputs": [],
   "source": []
  }
 ],
 "metadata": {
  "kernelspec": {
   "display_name": "Python 3",
   "language": "python",
   "name": "python3"
  },
  "language_info": {
   "codemirror_mode": {
    "name": "ipython",
    "version": 3
   },
   "file_extension": ".py",
   "mimetype": "text/x-python",
   "name": "python",
   "nbconvert_exporter": "python",
   "pygments_lexer": "ipython3",
   "version": "3.7.6"
  }
 },
 "nbformat": 4,
 "nbformat_minor": 4
}
